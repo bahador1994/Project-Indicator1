{
 "cells": [
  {
   "cell_type": "markdown",
   "metadata": {},
   "source": [
    "### Automate Transformation U.S. Public Debt vs. GDP"
   ]
  },
  {
   "cell_type": "code",
   "execution_count": 4,
   "metadata": {},
   "outputs": [
    {
     "name": "stdout",
     "output_type": "stream",
     "text": [
      "Downloading dataset: thedevastator/u-s-public-debt-vs-gdp-from-1947-2020\n",
      "Dataset URL: https://www.kaggle.com/datasets/thedevastator/u-s-public-debt-vs-gdp-from-1947-2020\n",
      "Downloaded and unzipped dataset: thedevastator/u-s-public-debt-vs-gdp-from-1947-2020 to ./data\n"
     ]
    }
   ],
   "source": [
    "import os\n",
    "from kaggle import KaggleApi\n",
    "\n",
    "# Instantiate Kaggle API\n",
    "api = KaggleApi()\n",
    "api.authenticate()\n",
    "\n",
    "# Download and extract population dataset\n",
    "dataset = \"thedevastator/u-s-public-debt-vs-gdp-from-1947-2020\"\n",
    "folder = 'data'\n",
    "try:\n",
    "    api.dataset_download_files(dataset, path=folder, unzip=True)\n",
    "except Exception as e:\n",
    "    print(f\"Error downloading dataset: {e}\")\n",
    "    exit(1)"
   ]
  },
  {
   "cell_type": "markdown",
   "metadata": {},
   "source": [
    "### Automate Transformation U.S. Economic Indicators (1974-2024)\n"
   ]
  },
  {
   "cell_type": "code",
   "execution_count": 4,
   "metadata": {},
   "outputs": [
    {
     "name": "stdout",
     "output_type": "stream",
     "text": [
      "Dataset URL: https://www.kaggle.com/datasets/alfredkondoro/u-s-economic-indicators-1974-2024\n"
     ]
    }
   ],
   "source": [
    "import os\n",
    "from kaggle import KaggleApi\n",
    "\n",
    "# Instantiate Kaggle API\n",
    "api = KaggleApi()\n",
    "api.authenticate()\n",
    "\n",
    "# Download and extract population dataset\n",
    "dataset = \"alfredkondoro/u-s-economic-indicators-1974-2024\"\n",
    "folder = 'data'\n",
    "try:\n",
    "    api.dataset_download_files(dataset, path=folder, unzip=True)\n",
    "except Exception as e:\n",
    "    print(f\"Error downloading dataset: {e}\")\n",
    "    exit(1)"
   ]
  }
 ],
 "metadata": {
  "kernelspec": {
   "display_name": ".venv",
   "language": "python",
   "name": "python3"
  },
  "language_info": {
   "codemirror_mode": {
    "name": "ipython",
    "version": 3
   },
   "file_extension": ".py",
   "mimetype": "text/x-python",
   "name": "python",
   "nbconvert_exporter": "python",
   "pygments_lexer": "ipython3",
   "version": "3.12.6"
  }
 },
 "nbformat": 4,
 "nbformat_minor": 2
}
